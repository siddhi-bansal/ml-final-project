{
 "cells": [
  {
   "cell_type": "code",
   "execution_count": 67,
   "metadata": {},
   "outputs": [],
   "source": [
    "# Standard library imports\n",
    "\n",
    "import numpy as np\n",
    "import pandas as pd\n",
    "import matplotlib.pyplot as plt\n",
    "import time\n",
    "from datetime import timedelta"
   ]
  },
  {
   "cell_type": "code",
   "execution_count": 68,
   "metadata": {},
   "outputs": [
    {
     "name": "stdout",
     "output_type": "stream",
     "text": [
      "Shape of the data frame: (150346, 14)\n"
     ]
    }
   ],
   "source": [
    "# Read the data file\n",
    "\n",
    "df = pd.read_json('data/yelp_academic_dataset_business.json', lines=True)\n",
    "print(\"Shape of the data frame:\", df.shape)"
   ]
  },
  {
   "cell_type": "code",
   "execution_count": 69,
   "metadata": {},
   "outputs": [
    {
     "name": "stdout",
     "output_type": "stream",
     "text": [
      "Shape of the modified data frame: (117618, 11)\n"
     ]
    }
   ],
   "source": [
    "# Drop all records with missing values and irrelevant columns\n",
    "df = df.dropna()\n",
    "df = df.drop(columns=['name', 'address', 'city'])\n",
    "\n",
    "print(\"Shape of the modified data frame:\", df.shape)"
   ]
  },
  {
   "cell_type": "code",
   "execution_count": 70,
   "metadata": {},
   "outputs": [
    {
     "name": "stdout",
     "output_type": "stream",
     "text": [
      "Shape of the modified data frame: (31357, 10)\n"
     ]
    }
   ],
   "source": [
    "# Keep only businesses that are restaurants\n",
    "df = df[df['categories'].str.contains('Restaurants')]\n",
    "\n",
    "# Keep only businesses that are still open (not permanently closed)\n",
    "df = df[df['is_open']==1]\n",
    "\n",
    "# Drop the is_open column (irrelevant)\n",
    "df = df.drop(columns='is_open')\n",
    "\n",
    "print(\"Shape of the modified data frame:\", df.shape)"
   ]
  },
  {
   "cell_type": "code",
   "execution_count": 71,
   "metadata": {},
   "outputs": [],
   "source": [
    "# Parse JSON data in attributes and hours columns to individual feature columns\n",
    "\n",
    "df = df.join(pd.json_normalize(df['attributes']))\n",
    "df = df.join(pd.json_normalize(df['hours']))\n",
    "\n",
    "# Drop the attributes and hours columns containing JSON data\n",
    "df = df.drop(columns=['attributes', 'hours'])"
   ]
  },
  {
   "cell_type": "code",
   "execution_count": 72,
   "metadata": {},
   "outputs": [],
   "source": [
    "# Function to parse an hours string and return number of hours open\n",
    "# e.g. 10:00-21:00 -> 11 hours\n",
    "\n",
    "def parse_hours(day_hours_str):\n",
    "    if pd.isna(day_hours_str):\n",
    "        return 0\n",
    "    \n",
    "    time_endpoints = str(day_hours_str).split('-')\n",
    "\n",
    "    if time_endpoints[0] == time_endpoints[1]:\n",
    "        # 0:0-0:0\n",
    "        return 0\n",
    "    \n",
    "    start_time = time.strptime(time_endpoints[0], \"%H:%M\")\n",
    "    end_time = time.strptime(time_endpoints[1], \"%H:%M\")\n",
    "\n",
    "    # account for edge cases in data where we have 10-1, which is technically 10am-1am\n",
    "    et_hour = (24 + end_time.tm_hour) if end_time.tm_hour < start_time.tm_hour else end_time.tm_hour\n",
    "    \n",
    "    start_time_td = timedelta(hours=start_time.tm_hour, minutes=start_time.tm_min)\n",
    "    end_time_td = timedelta(hours=et_hour, minutes=end_time.tm_min)\n",
    "\n",
    "    duration = end_time_td - start_time_td\n",
    "\n",
    "    return duration.total_seconds() / 3600"
   ]
  },
  {
   "cell_type": "code",
   "execution_count": 73,
   "metadata": {},
   "outputs": [],
   "source": [
    "# Create new feature (total_open_hours) by combining all individual day hours\n",
    "\n",
    "total_hours_arr = []\n",
    "count_neg = 0\n",
    "days = ['Monday', 'Tuesday', 'Wednesday', 'Thursday', 'Friday', 'Saturday', 'Sunday']\n",
    "\n",
    "for ind in df.index:\n",
    "    total_hours = 0\n",
    "\n",
    "    for day in days:\n",
    "        day_hours_str = df[day][ind]\n",
    "        day_hours = parse_hours(day_hours_str)\n",
    "        total_hours += day_hours\n",
    "    \n",
    "    total_hours_arr.append(total_hours)\n",
    "\n",
    "df['total_open_hours'] = total_hours_arr\n",
    "\n",
    "# Drop all the individual day hours columns\n",
    "df = df.drop(columns=['Monday', 'Tuesday', 'Wednesday', 'Thursday', 'Friday', 'Saturday', 'Sunday'])\n",
    "\n",
    "# TODO show example of total_open_hours before dropping days?"
   ]
  },
  {
   "cell_type": "code",
   "execution_count": 74,
   "metadata": {},
   "outputs": [],
   "source": [
    "# Remove all features except a handful\n",
    "\n",
    "df = df.filter(['total_open_hours', 'RestaurantsTakeOut', 'RestaurantsDelivery', 'Alcohol', 'latitude', 'longitude', 'stars'])"
   ]
  },
  {
   "cell_type": "code",
   "execution_count": 75,
   "metadata": {},
   "outputs": [],
   "source": [
    "# Impute missing values with false\n",
    "\n",
    "df['RestaurantsTakeOut'] = df['RestaurantsTakeOut'].fillna('False')\n",
    "df['RestaurantsDelivery'] = df['RestaurantsDelivery'].fillna('False')\n",
    "df['Alcohol'] = df['Alcohol'].fillna('False')"
   ]
  },
  {
   "cell_type": "code",
   "execution_count": 76,
   "metadata": {},
   "outputs": [],
   "source": [
    "# Convert alcohol column to true/false values only\n",
    "\n",
    "def alcohol_tf(val):\n",
    "    if 'beer_and_wine' in val or 'full_bar' in val:\n",
    "        return True\n",
    "    else :\n",
    "        return False\n",
    "\n",
    "df['Alcohol_TF'] = df['Alcohol'].apply(alcohol_tf)"
   ]
  },
  {
   "cell_type": "code",
   "execution_count": 77,
   "metadata": {},
   "outputs": [],
   "source": [
    "# Replace all 'None' values with False\n",
    "df.replace('None', 'False', inplace=True)\n",
    "\n",
    "# Convert all string representations of T/F to boolean values\n",
    "df.replace({'True': True, 'False': False}, inplace=True)\n",
    "\n",
    "# Drop alcohol feature (already feature engineered it)\n",
    "df.drop(columns=['Alcohol'], inplace = True)\n",
    "\n",
    "# Rename alcohol T/F feature column\n",
    "df = df.rename(columns={'Alcohol_TF':'Alcohol'})\n",
    "\n",
    "# Reset the index to 0, 1, ... - it changed after all the drops and modifications\n",
    "df = df.reset_index()"
   ]
  },
  {
   "cell_type": "code",
   "execution_count": 78,
   "metadata": {},
   "outputs": [],
   "source": [
    "# Apply KNN to find k nearest restaurants (by latitude/longitude)\n",
    "# Create new feature (avg_star_rating) averaging the star rating of the k nearest restaurants\n",
    "\n",
    "from sklearn.neighbors import NearestNeighbors\n",
    "from sklearn.preprocessing import StandardScaler\n",
    "\n",
    "location_df = df[['latitude', 'longitude', 'stars']]\n",
    "\n",
    "stars = location_df['stars']\n",
    "location_df = location_df.drop(columns='stars')\n",
    "\n",
    "scaler = StandardScaler()\n",
    "location_df = pd.DataFrame(scaler.fit_transform(location_df), columns=location_df.columns)\n",
    "\n",
    "neigh = NearestNeighbors(n_neighbors=51, n_jobs=-1)\n",
    "\n",
    "neigh.fit(location_df[['latitude', 'longitude']])\n",
    "\n",
    "distances, indices = neigh.kneighbors(location_df[['latitude', 'longitude']])\n",
    "\n",
    "for i in range(len(location_df)):\n",
    "    location_df.loc[i, 'avg_star_rating'] = stars.iloc[indices[i]].mean()"
   ]
  },
  {
   "cell_type": "code",
   "execution_count": 79,
   "metadata": {},
   "outputs": [],
   "source": [
    "# Add stacking feature to main df\n",
    "df['stack_1'] = location_df['avg_star_rating']\n",
    "\n",
    "# Drop latitude/longitude feature columns (no need anymore)\n",
    "df.drop(columns=['latitude', 'longitude'], inplace=True)\n",
    "\n",
    "# Reorder df columns\n",
    "df = df[['RestaurantsTakeOut', 'RestaurantsDelivery', 'Alcohol', 'total_open_hours', 'stack_1', 'stars']]"
   ]
  },
  {
   "cell_type": "code",
   "execution_count": 81,
   "metadata": {},
   "outputs": [
    {
     "data": {
      "text/html": [
       "<div>\n",
       "<style scoped>\n",
       "    .dataframe tbody tr th:only-of-type {\n",
       "        vertical-align: middle;\n",
       "    }\n",
       "\n",
       "    .dataframe tbody tr th {\n",
       "        vertical-align: top;\n",
       "    }\n",
       "\n",
       "    .dataframe thead th {\n",
       "        text-align: right;\n",
       "    }\n",
       "</style>\n",
       "<table border=\"1\" class=\"dataframe\">\n",
       "  <thead>\n",
       "    <tr style=\"text-align: right;\">\n",
       "      <th></th>\n",
       "      <th>RestaurantsTakeOut</th>\n",
       "      <th>RestaurantsDelivery</th>\n",
       "      <th>Alcohol</th>\n",
       "      <th>total_open_hours</th>\n",
       "      <th>stack_1</th>\n",
       "      <th>stars</th>\n",
       "    </tr>\n",
       "  </thead>\n",
       "  <tbody>\n",
       "    <tr>\n",
       "      <th>0</th>\n",
       "      <td>False</td>\n",
       "      <td>False</td>\n",
       "      <td>False</td>\n",
       "      <td>23.0</td>\n",
       "      <td>3.960784</td>\n",
       "      <td>4.0</td>\n",
       "    </tr>\n",
       "    <tr>\n",
       "      <th>1</th>\n",
       "      <td>True</td>\n",
       "      <td>True</td>\n",
       "      <td>True</td>\n",
       "      <td>53.0</td>\n",
       "      <td>3.225490</td>\n",
       "      <td>2.0</td>\n",
       "    </tr>\n",
       "    <tr>\n",
       "      <th>2</th>\n",
       "      <td>False</td>\n",
       "      <td>False</td>\n",
       "      <td>False</td>\n",
       "      <td>100.0</td>\n",
       "      <td>3.235294</td>\n",
       "      <td>1.5</td>\n",
       "    </tr>\n",
       "    <tr>\n",
       "      <th>3</th>\n",
       "      <td>True</td>\n",
       "      <td>True</td>\n",
       "      <td>False</td>\n",
       "      <td>36.0</td>\n",
       "      <td>3.931373</td>\n",
       "      <td>4.0</td>\n",
       "    </tr>\n",
       "    <tr>\n",
       "      <th>4</th>\n",
       "      <td>True</td>\n",
       "      <td>False</td>\n",
       "      <td>True</td>\n",
       "      <td>34.0</td>\n",
       "      <td>3.284314</td>\n",
       "      <td>2.5</td>\n",
       "    </tr>\n",
       "  </tbody>\n",
       "</table>\n",
       "</div>"
      ],
      "text/plain": [
       "   RestaurantsTakeOut  RestaurantsDelivery  Alcohol  total_open_hours  \\\n",
       "0               False                False    False              23.0   \n",
       "1                True                 True     True              53.0   \n",
       "2               False                False    False             100.0   \n",
       "3                True                 True    False              36.0   \n",
       "4                True                False     True              34.0   \n",
       "\n",
       "    stack_1  stars  \n",
       "0  3.960784    4.0  \n",
       "1  3.225490    2.0  \n",
       "2  3.235294    1.5  \n",
       "3  3.931373    4.0  \n",
       "4  3.284314    2.5  "
      ]
     },
     "execution_count": 81,
     "metadata": {},
     "output_type": "execute_result"
    }
   ],
   "source": [
    "# Final df for model looks like this\n",
    "\n",
    "df.head()"
   ]
  }
 ],
 "metadata": {
  "kernelspec": {
   "display_name": "base",
   "language": "python",
   "name": "python3"
  },
  "language_info": {
   "codemirror_mode": {
    "name": "ipython",
    "version": 3
   },
   "file_extension": ".py",
   "mimetype": "text/x-python",
   "name": "python",
   "nbconvert_exporter": "python",
   "pygments_lexer": "ipython3",
   "version": "3.11.5"
  }
 },
 "nbformat": 4,
 "nbformat_minor": 2
}
